{
 "cells": [
  {
   "cell_type": "code",
   "execution_count": 1,
   "metadata": {},
   "outputs": [],
   "source": [
    "from pyzbar import pyzbar\n",
    "import cv2"
   ]
  },
  {
   "cell_type": "code",
   "execution_count": 2,
   "metadata": {},
   "outputs": [],
   "source": [
    "def readBarcodes(frame,list):    \n",    
    "    img = frame\n",
    "    barcodes = pyzbar.decode(img)\n",
    "    for barcode in barcodes: #iterate through all barcodes and QR codes in the frame\n",
    "        if barcode is not None:            \n",
    "            duplicate = False\n",
    "            (x, y, w, h) = barcode.rect # get rectangle points\n",
    "            cv2.rectangle(img, (x, y), (x + w, y + h), (0, 255, 0), 2) # draw rectangle around detected barcodes\n",
    "            barcodeText = barcode.data.decode(\"utf-8\") # convert bytes type data to string\n",
    "            barcodeType = barcode.type\n",
    "            text = \"{} ({})\".format(barcodeText, barcodeType)\n",
    "            cv2.putText(img, text, (x, y - 10), cv2.FONT_HERSHEY_SIMPLEX,0.5, (0, 0, 255), 2)\n",
    "            for i in range(len(list)):                \n",
    "                if list[i] == text:\n",
    "                    duplicate = True\n",
    "                    break\n",
    "            if not duplicate:\n",
    "                list.append(text)            \n",
    "            \n",
    "    return img"
   ]
  },
  {
   "cell_type": "code",
   "execution_count": 3,
   "metadata": {},
   "outputs": [
    {
     "name": "stdout",
     "output_type": "stream",
     "text": [
      "['309104 (I25)', '9786055813710 (EAN13)', '9186015813710 (EAN13)', '5186057813710 (EAN13)', '5786011813710 (EAN13)', '9789758607488 (EAN13)', '8699141057060 (EAN13)', 'Version 4 QR Code, up to 50 char (QRCODE)']\n"
     ]
    }
   ],
   "source": [
    "cap = cv2.VideoCapture(0)   # read video file or stream. 0 means capturing from built in webcam.\n",
    "barcodeNumbers = [] # list to store barcode numbers\n",
    "\n",
    "while cap.isOpened(): # successful capture\n",
    "    # Capture frame-by-frame\n",
    "    ret, frame = cap.read()\n",
    "    if frame is not None:        \n",
    "        detectedBarcodes = readBarcodes(frame,barcodeNumbers)        \n",
    "        cv2.imshow('barcodes', detectedBarcodes)\n",
    "        \n",
    "        if cv2.waitKey(1) & 0xFF == 27: # exit when ESC is pressed\n",
    "            break\n",
    "    else:\n",
    "        print('unable to read next frame')\n",
    "        break\n",
    "\n",
    "print(barcodeNumbers)\n",
    "cap.release()\n",
    "cv2.destroyAllWindows()"
   ]
  }
 ],
 "metadata": {
  "kernelspec": {
   "display_name": "Python 3",
   "language": "python",
   "name": "python3"
  },
  "language_info": {
   "codemirror_mode": {
    "name": "ipython",
    "version": 3
   },
   "file_extension": ".py",
   "mimetype": "text/x-python",
   "name": "python",
   "nbconvert_exporter": "python",
   "pygments_lexer": "ipython3",
   "version": "3.5.6"
  }
 },
 "nbformat": 4,
 "nbformat_minor": 2
}
